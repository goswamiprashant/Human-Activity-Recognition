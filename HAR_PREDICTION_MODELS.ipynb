{
  "nbformat": 4,
  "nbformat_minor": 0,
  "metadata": {
    "kernelspec": {
      "display_name": "Python 3",
      "language": "python",
      "name": "python3"
    },
    "language_info": {
      "codemirror_mode": {
        "name": "ipython",
        "version": 3
      },
      "file_extension": ".py",
      "mimetype": "text/x-python",
      "name": "python",
      "nbconvert_exporter": "python",
      "pygments_lexer": "ipython3",
      "version": "3.6.1"
    },
    "colab": {
      "name": "HAR_PREDICTION_MODELS.ipynb",
      "provenance": [],
      "collapsed_sections": [],
      "include_colab_link": true
    }
  },
  "cells": [
    {
      "cell_type": "markdown",
      "metadata": {
        "id": "view-in-github",
        "colab_type": "text"
      },
      "source": [
        "<a href=\"https://colab.research.google.com/github/goswamiprashant/Human-Activity-Recognition/blob/main/HAR_PREDICTION_MODELS.ipynb\" target=\"_parent\"><img src=\"https://colab.research.google.com/assets/colab-badge.svg\" alt=\"Open In Colab\"/></a>"
      ]
    },
    {
      "cell_type": "code",
      "metadata": {
        "colab": {
          "base_uri": "https://localhost:8080/"
        },
        "id": "tQLFVYMZNEx4",
        "outputId": "8495843e-26ac-4d10-c32e-87084d9a9003"
      },
      "source": [
        "!gdown --id 118toouH8ifByKJHmmowyjOjGyir-YAvi"
      ],
      "execution_count": 1,
      "outputs": [
        {
          "output_type": "stream",
          "name": "stdout",
          "text": [
            "Downloading...\n",
            "From: https://drive.google.com/uc?id=118toouH8ifByKJHmmowyjOjGyir-YAvi\n",
            "To: /content/HumanActivityRecognition.zip\n",
            "89.8MB [00:00, 173MB/s] \n"
          ]
        }
      ]
    },
    {
      "cell_type": "code",
      "metadata": {
        "colab": {
          "base_uri": "https://localhost:8080/"
        },
        "id": "aKY4WxpRNLb5",
        "outputId": "9f06e4fa-87ff-4688-ff07-192912fd5edd"
      },
      "source": [
        "!unzip /content/HumanActivityRecognition.zip"
      ],
      "execution_count": 2,
      "outputs": [
        {
          "output_type": "stream",
          "name": "stdout",
          "text": [
            "Archive:  /content/HumanActivityRecognition.zip\n",
            "   creating: HAR/\n",
            "  inflating: HAR/.DS_Store           \n",
            "   creating: __MACOSX/\n",
            "   creating: __MACOSX/HAR/\n",
            "  inflating: __MACOSX/HAR/._.DS_Store  \n",
            "   creating: HAR/.ipynb_checkpoints/\n",
            "  inflating: HAR/.ipynb_checkpoints/HAR_EDA-checkpoint.ipynb  \n",
            "  inflating: HAR/.ipynb_checkpoints/HAR_LSTM-checkpoint.ipynb  \n",
            "  inflating: HAR/.ipynb_checkpoints/HAR_LSTM_1-checkpoint.ipynb  \n",
            "  inflating: HAR/.ipynb_checkpoints/HAR_PREDICTION_MODELS-checkpoint.ipynb  \n",
            "  inflating: HAR/HAR_EDA.ipynb       \n",
            "  inflating: __MACOSX/HAR/._HAR_EDA.ipynb  \n",
            "  inflating: HAR/HAR_LSTM.ipynb      \n",
            "  inflating: __MACOSX/HAR/._HAR_LSTM.ipynb  \n",
            "  inflating: HAR/HAR_PREDICTION_MODELS.ipynb  \n",
            "  inflating: __MACOSX/HAR/._HAR_PREDICTION_MODELS.ipynb  \n",
            "  inflating: HAR/t-sne_perp_10_iter_1000.png  \n",
            "  inflating: __MACOSX/HAR/._t-sne_perp_10_iter_1000.png  \n",
            "  inflating: HAR/t-sne_perp_20_iter_1000.png  \n",
            "  inflating: __MACOSX/HAR/._t-sne_perp_20_iter_1000.png  \n",
            "  inflating: HAR/t-sne_perp_2_iter_1000.png  \n",
            "  inflating: __MACOSX/HAR/._t-sne_perp_2_iter_1000.png  \n",
            "  inflating: HAR/t-sne_perp_50_iter_1000.png  \n",
            "  inflating: __MACOSX/HAR/._t-sne_perp_50_iter_1000.png  \n",
            "  inflating: HAR/t-sne_perp_5_iter_1000.png  \n",
            "  inflating: __MACOSX/HAR/._t-sne_perp_5_iter_1000.png  \n",
            "   creating: HAR/UCI_HAR_Dataset/\n",
            "  inflating: HAR/UCI_HAR_Dataset/.DS_Store  \n",
            "   creating: __MACOSX/HAR/UCI_HAR_Dataset/\n",
            "  inflating: __MACOSX/HAR/UCI_HAR_Dataset/._.DS_Store  \n",
            "  inflating: HAR/UCI_HAR_Dataset/_DS_Store  \n",
            "  inflating: __MACOSX/HAR/UCI_HAR_Dataset/.__DS_Store  \n",
            "  inflating: HAR/UCI_HAR_Dataset/activity_labels.txt  \n",
            "  inflating: __MACOSX/HAR/UCI_HAR_Dataset/._activity_labels.txt  \n",
            "   creating: HAR/UCI_HAR_Dataset/csv_files/\n",
            "  inflating: HAR/UCI_HAR_Dataset/csv_files/test.csv  \n",
            "   creating: __MACOSX/HAR/UCI_HAR_Dataset/csv_files/\n",
            "  inflating: __MACOSX/HAR/UCI_HAR_Dataset/csv_files/._test.csv  \n",
            "  inflating: HAR/UCI_HAR_Dataset/csv_files/train.csv  \n",
            "  inflating: __MACOSX/HAR/UCI_HAR_Dataset/csv_files/._train.csv  \n",
            "  inflating: HAR/UCI_HAR_Dataset/features.txt  \n",
            "  inflating: __MACOSX/HAR/UCI_HAR_Dataset/._features.txt  \n",
            "  inflating: HAR/UCI_HAR_Dataset/features_info.txt  \n",
            "  inflating: __MACOSX/HAR/UCI_HAR_Dataset/._features_info.txt  \n",
            "  inflating: HAR/UCI_HAR_Dataset/README.txt  \n",
            "  inflating: __MACOSX/HAR/UCI_HAR_Dataset/._README.txt  \n",
            "   creating: HAR/UCI_HAR_Dataset/test/\n",
            "   creating: HAR/UCI_HAR_Dataset/test/Inertial Signals/\n",
            "  inflating: HAR/UCI_HAR_Dataset/test/Inertial Signals/body_acc_x_test.txt  \n",
            "   creating: __MACOSX/HAR/UCI_HAR_Dataset/test/\n",
            "   creating: __MACOSX/HAR/UCI_HAR_Dataset/test/Inertial Signals/\n",
            "  inflating: __MACOSX/HAR/UCI_HAR_Dataset/test/Inertial Signals/._body_acc_x_test.txt  \n",
            "  inflating: HAR/UCI_HAR_Dataset/test/Inertial Signals/body_acc_y_test.txt  \n",
            "  inflating: __MACOSX/HAR/UCI_HAR_Dataset/test/Inertial Signals/._body_acc_y_test.txt  \n",
            "  inflating: HAR/UCI_HAR_Dataset/test/Inertial Signals/body_acc_z_test.txt  \n",
            "  inflating: __MACOSX/HAR/UCI_HAR_Dataset/test/Inertial Signals/._body_acc_z_test.txt  \n",
            "  inflating: HAR/UCI_HAR_Dataset/test/Inertial Signals/body_gyro_x_test.txt  \n",
            "  inflating: __MACOSX/HAR/UCI_HAR_Dataset/test/Inertial Signals/._body_gyro_x_test.txt  \n",
            "  inflating: HAR/UCI_HAR_Dataset/test/Inertial Signals/body_gyro_y_test.txt  \n",
            "  inflating: __MACOSX/HAR/UCI_HAR_Dataset/test/Inertial Signals/._body_gyro_y_test.txt  \n",
            "  inflating: HAR/UCI_HAR_Dataset/test/Inertial Signals/body_gyro_z_test.txt  \n",
            "  inflating: __MACOSX/HAR/UCI_HAR_Dataset/test/Inertial Signals/._body_gyro_z_test.txt  \n",
            "  inflating: HAR/UCI_HAR_Dataset/test/Inertial Signals/total_acc_x_test.txt  \n",
            "  inflating: __MACOSX/HAR/UCI_HAR_Dataset/test/Inertial Signals/._total_acc_x_test.txt  \n",
            "  inflating: HAR/UCI_HAR_Dataset/test/Inertial Signals/total_acc_y_test.txt  \n",
            "  inflating: __MACOSX/HAR/UCI_HAR_Dataset/test/Inertial Signals/._total_acc_y_test.txt  \n",
            "  inflating: HAR/UCI_HAR_Dataset/test/Inertial Signals/total_acc_z_test.txt  \n",
            "  inflating: __MACOSX/HAR/UCI_HAR_Dataset/test/Inertial Signals/._total_acc_z_test.txt  \n",
            "  inflating: HAR/UCI_HAR_Dataset/test/subject_test.txt  \n",
            "  inflating: __MACOSX/HAR/UCI_HAR_Dataset/test/._subject_test.txt  \n",
            "  inflating: HAR/UCI_HAR_Dataset/test/X_test.txt  \n",
            "  inflating: __MACOSX/HAR/UCI_HAR_Dataset/test/._X_test.txt  \n",
            "  inflating: HAR/UCI_HAR_Dataset/test/y_test.txt  \n",
            "  inflating: __MACOSX/HAR/UCI_HAR_Dataset/test/._y_test.txt  \n",
            "   creating: HAR/UCI_HAR_Dataset/train/\n",
            "  inflating: HAR/UCI_HAR_Dataset/train/.DS_Store  \n",
            "   creating: __MACOSX/HAR/UCI_HAR_Dataset/train/\n",
            "  inflating: __MACOSX/HAR/UCI_HAR_Dataset/train/._.DS_Store  \n",
            "   creating: HAR/UCI_HAR_Dataset/train/Inertial Signals/\n",
            "  inflating: HAR/UCI_HAR_Dataset/train/Inertial Signals/body_acc_x_train.txt  \n",
            "   creating: __MACOSX/HAR/UCI_HAR_Dataset/train/Inertial Signals/\n",
            "  inflating: __MACOSX/HAR/UCI_HAR_Dataset/train/Inertial Signals/._body_acc_x_train.txt  \n",
            "  inflating: HAR/UCI_HAR_Dataset/train/Inertial Signals/body_acc_y_train.txt  \n",
            "  inflating: __MACOSX/HAR/UCI_HAR_Dataset/train/Inertial Signals/._body_acc_y_train.txt  \n",
            "  inflating: HAR/UCI_HAR_Dataset/train/Inertial Signals/body_acc_z_train.txt  \n",
            "  inflating: __MACOSX/HAR/UCI_HAR_Dataset/train/Inertial Signals/._body_acc_z_train.txt  \n",
            "  inflating: HAR/UCI_HAR_Dataset/train/Inertial Signals/body_gyro_x_train.txt  \n",
            "  inflating: __MACOSX/HAR/UCI_HAR_Dataset/train/Inertial Signals/._body_gyro_x_train.txt  \n",
            "  inflating: HAR/UCI_HAR_Dataset/train/Inertial Signals/body_gyro_y_train.txt  \n",
            "  inflating: __MACOSX/HAR/UCI_HAR_Dataset/train/Inertial Signals/._body_gyro_y_train.txt  \n",
            "  inflating: HAR/UCI_HAR_Dataset/train/Inertial Signals/body_gyro_z_train.txt  \n",
            "  inflating: __MACOSX/HAR/UCI_HAR_Dataset/train/Inertial Signals/._body_gyro_z_train.txt  \n",
            "  inflating: HAR/UCI_HAR_Dataset/train/Inertial Signals/total_acc_x_train.txt  \n",
            "  inflating: __MACOSX/HAR/UCI_HAR_Dataset/train/Inertial Signals/._total_acc_x_train.txt  \n",
            "  inflating: HAR/UCI_HAR_Dataset/train/Inertial Signals/total_acc_y_train.txt  \n",
            "  inflating: __MACOSX/HAR/UCI_HAR_Dataset/train/Inertial Signals/._total_acc_y_train.txt  \n",
            "  inflating: HAR/UCI_HAR_Dataset/train/Inertial Signals/total_acc_z_train.txt  \n",
            "  inflating: __MACOSX/HAR/UCI_HAR_Dataset/train/Inertial Signals/._total_acc_z_train.txt  \n",
            "  inflating: HAR/UCI_HAR_Dataset/train/subject_train.txt  \n",
            "  inflating: __MACOSX/HAR/UCI_HAR_Dataset/train/._subject_train.txt  \n",
            "  inflating: HAR/UCI_HAR_Dataset/train/X_train.txt  \n",
            "  inflating: __MACOSX/HAR/UCI_HAR_Dataset/train/._X_train.txt  \n",
            "  inflating: HAR/UCI_HAR_Dataset/train/y_train.txt  \n",
            "  inflating: __MACOSX/HAR/UCI_HAR_Dataset/train/._y_train.txt  \n"
          ]
        }
      ]
    },
    {
      "cell_type": "code",
      "metadata": {
        "collapsed": true,
        "id": "fRpkJGG7AMI5"
      },
      "source": [
        "import numpy as np\n",
        "import pandas as pd"
      ],
      "execution_count": 4,
      "outputs": []
    },
    {
      "cell_type": "markdown",
      "metadata": {
        "id": "-o7P7rvGAMI8"
      },
      "source": [
        "## Obtain the train and test data"
      ]
    },
    {
      "cell_type": "code",
      "metadata": {
        "scrolled": false,
        "colab": {
          "base_uri": "https://localhost:8080/"
        },
        "id": "ujVNMRocAMJA",
        "outputId": "fd24addf-40a5-4a15-ba48-aff4df29f782"
      },
      "source": [
        "train = pd.read_csv('/content/HAR/UCI_HAR_Dataset/csv_files/train.csv')\n",
        "test = pd.read_csv('/content/HAR/UCI_HAR_Dataset/csv_files/test.csv')\n",
        "print(train.shape, test.shape)\n",
        "\n"
      ],
      "execution_count": 5,
      "outputs": [
        {
          "output_type": "stream",
          "name": "stdout",
          "text": [
            "(7352, 564) (2947, 564)\n"
          ]
        }
      ]
    },
    {
      "cell_type": "code",
      "metadata": {
        "scrolled": true,
        "colab": {
          "base_uri": "https://localhost:8080/",
          "height": 190
        },
        "id": "6kytgK6EAMJD",
        "outputId": "2310894c-ce7d-46c1-e543-87cd5173aab4"
      },
      "source": [
        "train.head(3)"
      ],
      "execution_count": 6,
      "outputs": [
        {
          "output_type": "execute_result",
          "data": {
            "text/html": [
              "<div>\n",
              "<style scoped>\n",
              "    .dataframe tbody tr th:only-of-type {\n",
              "        vertical-align: middle;\n",
              "    }\n",
              "\n",
              "    .dataframe tbody tr th {\n",
              "        vertical-align: top;\n",
              "    }\n",
              "\n",
              "    .dataframe thead th {\n",
              "        text-align: right;\n",
              "    }\n",
              "</style>\n",
              "<table border=\"1\" class=\"dataframe\">\n",
              "  <thead>\n",
              "    <tr style=\"text-align: right;\">\n",
              "      <th></th>\n",
              "      <th>tBodyAccmeanX</th>\n",
              "      <th>tBodyAccmeanY</th>\n",
              "      <th>tBodyAccmeanZ</th>\n",
              "      <th>tBodyAccstdX</th>\n",
              "      <th>tBodyAccstdY</th>\n",
              "      <th>tBodyAccstdZ</th>\n",
              "      <th>tBodyAccmadX</th>\n",
              "      <th>tBodyAccmadY</th>\n",
              "      <th>tBodyAccmadZ</th>\n",
              "      <th>tBodyAccmaxX</th>\n",
              "      <th>tBodyAccmaxY</th>\n",
              "      <th>tBodyAccmaxZ</th>\n",
              "      <th>tBodyAccminX</th>\n",
              "      <th>tBodyAccminY</th>\n",
              "      <th>tBodyAccminZ</th>\n",
              "      <th>tBodyAccsma</th>\n",
              "      <th>tBodyAccenergyX</th>\n",
              "      <th>tBodyAccenergyY</th>\n",
              "      <th>tBodyAccenergyZ</th>\n",
              "      <th>tBodyAcciqrX</th>\n",
              "      <th>tBodyAcciqrY</th>\n",
              "      <th>tBodyAcciqrZ</th>\n",
              "      <th>tBodyAccentropyX</th>\n",
              "      <th>tBodyAccentropyY</th>\n",
              "      <th>tBodyAccentropyZ</th>\n",
              "      <th>tBodyAccarCoeffX1</th>\n",
              "      <th>tBodyAccarCoeffX2</th>\n",
              "      <th>tBodyAccarCoeffX3</th>\n",
              "      <th>tBodyAccarCoeffX4</th>\n",
              "      <th>tBodyAccarCoeffY1</th>\n",
              "      <th>tBodyAccarCoeffY2</th>\n",
              "      <th>tBodyAccarCoeffY3</th>\n",
              "      <th>tBodyAccarCoeffY4</th>\n",
              "      <th>tBodyAccarCoeffZ1</th>\n",
              "      <th>tBodyAccarCoeffZ2</th>\n",
              "      <th>tBodyAccarCoeffZ3</th>\n",
              "      <th>tBodyAccarCoeffZ4</th>\n",
              "      <th>tBodyAcccorrelationXY</th>\n",
              "      <th>tBodyAcccorrelationXZ</th>\n",
              "      <th>tBodyAcccorrelationYZ</th>\n",
              "      <th>...</th>\n",
              "      <th>fBodyBodyAccJerkMagmaxInds</th>\n",
              "      <th>fBodyBodyAccJerkMagmeanFreq</th>\n",
              "      <th>fBodyBodyAccJerkMagskewness</th>\n",
              "      <th>fBodyBodyAccJerkMagkurtosis</th>\n",
              "      <th>fBodyBodyGyroMagmean</th>\n",
              "      <th>fBodyBodyGyroMagstd</th>\n",
              "      <th>fBodyBodyGyroMagmad</th>\n",
              "      <th>fBodyBodyGyroMagmax</th>\n",
              "      <th>fBodyBodyGyroMagmin</th>\n",
              "      <th>fBodyBodyGyroMagsma</th>\n",
              "      <th>fBodyBodyGyroMagenergy</th>\n",
              "      <th>fBodyBodyGyroMagiqr</th>\n",
              "      <th>fBodyBodyGyroMagentropy</th>\n",
              "      <th>fBodyBodyGyroMagmaxInds</th>\n",
              "      <th>fBodyBodyGyroMagmeanFreq</th>\n",
              "      <th>fBodyBodyGyroMagskewness</th>\n",
              "      <th>fBodyBodyGyroMagkurtosis</th>\n",
              "      <th>fBodyBodyGyroJerkMagmean</th>\n",
              "      <th>fBodyBodyGyroJerkMagstd</th>\n",
              "      <th>fBodyBodyGyroJerkMagmad</th>\n",
              "      <th>fBodyBodyGyroJerkMagmax</th>\n",
              "      <th>fBodyBodyGyroJerkMagmin</th>\n",
              "      <th>fBodyBodyGyroJerkMagsma</th>\n",
              "      <th>fBodyBodyGyroJerkMagenergy</th>\n",
              "      <th>fBodyBodyGyroJerkMagiqr</th>\n",
              "      <th>fBodyBodyGyroJerkMagentropy</th>\n",
              "      <th>fBodyBodyGyroJerkMagmaxInds</th>\n",
              "      <th>fBodyBodyGyroJerkMagmeanFreq</th>\n",
              "      <th>fBodyBodyGyroJerkMagskewness</th>\n",
              "      <th>fBodyBodyGyroJerkMagkurtosis</th>\n",
              "      <th>angletBodyAccMeangravity</th>\n",
              "      <th>angletBodyAccJerkMeangravityMean</th>\n",
              "      <th>angletBodyGyroMeangravityMean</th>\n",
              "      <th>angletBodyGyroJerkMeangravityMean</th>\n",
              "      <th>angleXgravityMean</th>\n",
              "      <th>angleYgravityMean</th>\n",
              "      <th>angleZgravityMean</th>\n",
              "      <th>subject</th>\n",
              "      <th>Activity</th>\n",
              "      <th>ActivityName</th>\n",
              "    </tr>\n",
              "  </thead>\n",
              "  <tbody>\n",
              "    <tr>\n",
              "      <th>0</th>\n",
              "      <td>0.288585</td>\n",
              "      <td>-0.020294</td>\n",
              "      <td>-0.132905</td>\n",
              "      <td>-0.995279</td>\n",
              "      <td>-0.983111</td>\n",
              "      <td>-0.913526</td>\n",
              "      <td>-0.995112</td>\n",
              "      <td>-0.983185</td>\n",
              "      <td>-0.923527</td>\n",
              "      <td>-0.934724</td>\n",
              "      <td>-0.567378</td>\n",
              "      <td>-0.744413</td>\n",
              "      <td>0.852947</td>\n",
              "      <td>0.685845</td>\n",
              "      <td>0.814263</td>\n",
              "      <td>-0.965523</td>\n",
              "      <td>-0.999945</td>\n",
              "      <td>-0.999863</td>\n",
              "      <td>-0.994612</td>\n",
              "      <td>-0.994231</td>\n",
              "      <td>-0.987614</td>\n",
              "      <td>-0.943220</td>\n",
              "      <td>-0.407747</td>\n",
              "      <td>-0.679338</td>\n",
              "      <td>-0.602122</td>\n",
              "      <td>0.929294</td>\n",
              "      <td>-0.853011</td>\n",
              "      <td>0.359910</td>\n",
              "      <td>-0.058526</td>\n",
              "      <td>0.256892</td>\n",
              "      <td>-0.224848</td>\n",
              "      <td>0.264106</td>\n",
              "      <td>-0.095246</td>\n",
              "      <td>0.278851</td>\n",
              "      <td>-0.465085</td>\n",
              "      <td>0.491936</td>\n",
              "      <td>-0.190884</td>\n",
              "      <td>0.376314</td>\n",
              "      <td>0.435129</td>\n",
              "      <td>0.660790</td>\n",
              "      <td>...</td>\n",
              "      <td>-0.936508</td>\n",
              "      <td>0.346989</td>\n",
              "      <td>-0.516080</td>\n",
              "      <td>-0.802760</td>\n",
              "      <td>-0.980135</td>\n",
              "      <td>-0.961309</td>\n",
              "      <td>-0.973653</td>\n",
              "      <td>-0.952264</td>\n",
              "      <td>-0.989498</td>\n",
              "      <td>-0.980135</td>\n",
              "      <td>-0.999240</td>\n",
              "      <td>-0.992656</td>\n",
              "      <td>-0.701291</td>\n",
              "      <td>-1.000000</td>\n",
              "      <td>-0.128989</td>\n",
              "      <td>0.586156</td>\n",
              "      <td>0.374605</td>\n",
              "      <td>-0.991990</td>\n",
              "      <td>-0.990697</td>\n",
              "      <td>-0.989941</td>\n",
              "      <td>-0.992448</td>\n",
              "      <td>-0.991048</td>\n",
              "      <td>-0.991990</td>\n",
              "      <td>-0.999937</td>\n",
              "      <td>-0.990458</td>\n",
              "      <td>-0.871306</td>\n",
              "      <td>-1.000000</td>\n",
              "      <td>-0.074323</td>\n",
              "      <td>-0.298676</td>\n",
              "      <td>-0.710304</td>\n",
              "      <td>-0.112754</td>\n",
              "      <td>0.030400</td>\n",
              "      <td>-0.464761</td>\n",
              "      <td>-0.018446</td>\n",
              "      <td>-0.841247</td>\n",
              "      <td>0.179941</td>\n",
              "      <td>-0.058627</td>\n",
              "      <td>1</td>\n",
              "      <td>5</td>\n",
              "      <td>STANDING</td>\n",
              "    </tr>\n",
              "    <tr>\n",
              "      <th>1</th>\n",
              "      <td>0.278419</td>\n",
              "      <td>-0.016411</td>\n",
              "      <td>-0.123520</td>\n",
              "      <td>-0.998245</td>\n",
              "      <td>-0.975300</td>\n",
              "      <td>-0.960322</td>\n",
              "      <td>-0.998807</td>\n",
              "      <td>-0.974914</td>\n",
              "      <td>-0.957686</td>\n",
              "      <td>-0.943068</td>\n",
              "      <td>-0.557851</td>\n",
              "      <td>-0.818409</td>\n",
              "      <td>0.849308</td>\n",
              "      <td>0.685845</td>\n",
              "      <td>0.822637</td>\n",
              "      <td>-0.981930</td>\n",
              "      <td>-0.999991</td>\n",
              "      <td>-0.999788</td>\n",
              "      <td>-0.998405</td>\n",
              "      <td>-0.999150</td>\n",
              "      <td>-0.977866</td>\n",
              "      <td>-0.948225</td>\n",
              "      <td>-0.714892</td>\n",
              "      <td>-0.500930</td>\n",
              "      <td>-0.570979</td>\n",
              "      <td>0.611627</td>\n",
              "      <td>-0.329549</td>\n",
              "      <td>0.284213</td>\n",
              "      <td>0.284595</td>\n",
              "      <td>0.115705</td>\n",
              "      <td>-0.090963</td>\n",
              "      <td>0.294310</td>\n",
              "      <td>-0.281211</td>\n",
              "      <td>0.085988</td>\n",
              "      <td>-0.022153</td>\n",
              "      <td>-0.016657</td>\n",
              "      <td>-0.220643</td>\n",
              "      <td>-0.013429</td>\n",
              "      <td>-0.072692</td>\n",
              "      <td>0.579382</td>\n",
              "      <td>...</td>\n",
              "      <td>-0.841270</td>\n",
              "      <td>0.532061</td>\n",
              "      <td>-0.624871</td>\n",
              "      <td>-0.900160</td>\n",
              "      <td>-0.988296</td>\n",
              "      <td>-0.983322</td>\n",
              "      <td>-0.982659</td>\n",
              "      <td>-0.986321</td>\n",
              "      <td>-0.991829</td>\n",
              "      <td>-0.988296</td>\n",
              "      <td>-0.999811</td>\n",
              "      <td>-0.993979</td>\n",
              "      <td>-0.720683</td>\n",
              "      <td>-0.948718</td>\n",
              "      <td>-0.271958</td>\n",
              "      <td>-0.336310</td>\n",
              "      <td>-0.720015</td>\n",
              "      <td>-0.995854</td>\n",
              "      <td>-0.996399</td>\n",
              "      <td>-0.995442</td>\n",
              "      <td>-0.996866</td>\n",
              "      <td>-0.994440</td>\n",
              "      <td>-0.995854</td>\n",
              "      <td>-0.999981</td>\n",
              "      <td>-0.994544</td>\n",
              "      <td>-1.000000</td>\n",
              "      <td>-1.000000</td>\n",
              "      <td>0.158075</td>\n",
              "      <td>-0.595051</td>\n",
              "      <td>-0.861499</td>\n",
              "      <td>0.053477</td>\n",
              "      <td>-0.007435</td>\n",
              "      <td>-0.732626</td>\n",
              "      <td>0.703511</td>\n",
              "      <td>-0.844788</td>\n",
              "      <td>0.180289</td>\n",
              "      <td>-0.054317</td>\n",
              "      <td>1</td>\n",
              "      <td>5</td>\n",
              "      <td>STANDING</td>\n",
              "    </tr>\n",
              "    <tr>\n",
              "      <th>2</th>\n",
              "      <td>0.279653</td>\n",
              "      <td>-0.019467</td>\n",
              "      <td>-0.113462</td>\n",
              "      <td>-0.995380</td>\n",
              "      <td>-0.967187</td>\n",
              "      <td>-0.978944</td>\n",
              "      <td>-0.996520</td>\n",
              "      <td>-0.963668</td>\n",
              "      <td>-0.977469</td>\n",
              "      <td>-0.938692</td>\n",
              "      <td>-0.557851</td>\n",
              "      <td>-0.818409</td>\n",
              "      <td>0.843609</td>\n",
              "      <td>0.682401</td>\n",
              "      <td>0.839344</td>\n",
              "      <td>-0.983478</td>\n",
              "      <td>-0.999969</td>\n",
              "      <td>-0.999660</td>\n",
              "      <td>-0.999470</td>\n",
              "      <td>-0.997130</td>\n",
              "      <td>-0.964810</td>\n",
              "      <td>-0.974675</td>\n",
              "      <td>-0.592235</td>\n",
              "      <td>-0.485821</td>\n",
              "      <td>-0.570979</td>\n",
              "      <td>0.273025</td>\n",
              "      <td>-0.086309</td>\n",
              "      <td>0.337202</td>\n",
              "      <td>-0.164739</td>\n",
              "      <td>0.017150</td>\n",
              "      <td>-0.074507</td>\n",
              "      <td>0.342256</td>\n",
              "      <td>-0.332564</td>\n",
              "      <td>0.239281</td>\n",
              "      <td>-0.136204</td>\n",
              "      <td>0.173863</td>\n",
              "      <td>-0.299493</td>\n",
              "      <td>-0.124698</td>\n",
              "      <td>-0.181105</td>\n",
              "      <td>0.608900</td>\n",
              "      <td>...</td>\n",
              "      <td>-0.904762</td>\n",
              "      <td>0.660795</td>\n",
              "      <td>-0.724697</td>\n",
              "      <td>-0.928539</td>\n",
              "      <td>-0.989255</td>\n",
              "      <td>-0.986028</td>\n",
              "      <td>-0.984274</td>\n",
              "      <td>-0.990979</td>\n",
              "      <td>-0.995703</td>\n",
              "      <td>-0.989255</td>\n",
              "      <td>-0.999854</td>\n",
              "      <td>-0.993238</td>\n",
              "      <td>-0.736521</td>\n",
              "      <td>-0.794872</td>\n",
              "      <td>-0.212728</td>\n",
              "      <td>-0.535352</td>\n",
              "      <td>-0.871914</td>\n",
              "      <td>-0.995031</td>\n",
              "      <td>-0.995127</td>\n",
              "      <td>-0.994640</td>\n",
              "      <td>-0.996060</td>\n",
              "      <td>-0.995866</td>\n",
              "      <td>-0.995031</td>\n",
              "      <td>-0.999973</td>\n",
              "      <td>-0.993755</td>\n",
              "      <td>-1.000000</td>\n",
              "      <td>-0.555556</td>\n",
              "      <td>0.414503</td>\n",
              "      <td>-0.390748</td>\n",
              "      <td>-0.760104</td>\n",
              "      <td>-0.118559</td>\n",
              "      <td>0.177899</td>\n",
              "      <td>0.100699</td>\n",
              "      <td>0.808529</td>\n",
              "      <td>-0.848933</td>\n",
              "      <td>0.180637</td>\n",
              "      <td>-0.049118</td>\n",
              "      <td>1</td>\n",
              "      <td>5</td>\n",
              "      <td>STANDING</td>\n",
              "    </tr>\n",
              "  </tbody>\n",
              "</table>\n",
              "<p>3 rows × 564 columns</p>\n",
              "</div>"
            ],
            "text/plain": [
              "   tBodyAccmeanX  tBodyAccmeanY  tBodyAccmeanZ  ...  subject  Activity  ActivityName\n",
              "0       0.288585      -0.020294      -0.132905  ...        1         5      STANDING\n",
              "1       0.278419      -0.016411      -0.123520  ...        1         5      STANDING\n",
              "2       0.279653      -0.019467      -0.113462  ...        1         5      STANDING\n",
              "\n",
              "[3 rows x 564 columns]"
            ]
          },
          "metadata": {},
          "execution_count": 6
        }
      ]
    },
    {
      "cell_type": "code",
      "metadata": {
        "collapsed": true,
        "id": "U6xnCAKNAMJE"
      },
      "source": [
        "# get X_train and y_train from csv files\n",
        "X_train = train.drop(['subject', 'Activity', 'ActivityName'], axis=1)\n",
        "y_train = train.ActivityName"
      ],
      "execution_count": 7,
      "outputs": []
    },
    {
      "cell_type": "code",
      "metadata": {
        "collapsed": true,
        "id": "NDKCAg99AMJE"
      },
      "source": [
        "# get X_test and y_test from test csv file\n",
        "X_test = test.drop(['subject', 'Activity', 'ActivityName'], axis=1)\n",
        "y_test = test.ActivityName"
      ],
      "execution_count": 8,
      "outputs": []
    },
    {
      "cell_type": "code",
      "metadata": {
        "colab": {
          "base_uri": "https://localhost:8080/"
        },
        "id": "rVS74-spAMJF",
        "outputId": "90a9ee4e-dd5c-480a-c8a0-cd91fbbc48e3"
      },
      "source": [
        "print('X_train and y_train : ({},{})'.format(X_train.shape, y_train.shape))\n",
        "print('X_test  and y_test  : ({},{})'.format(X_test.shape, y_test.shape))"
      ],
      "execution_count": 9,
      "outputs": [
        {
          "output_type": "stream",
          "name": "stdout",
          "text": [
            "X_train and y_train : ((7352, 561),(7352,))\n",
            "X_test  and y_test  : ((2947, 561),(2947,))\n"
          ]
        }
      ]
    },
    {
      "cell_type": "markdown",
      "metadata": {
        "id": "499P9-evAMJG"
      },
      "source": [
        " "
      ]
    },
    {
      "cell_type": "markdown",
      "metadata": {
        "id": "cDG_bQZYAMJG"
      },
      "source": [
        " "
      ]
    },
    {
      "cell_type": "markdown",
      "metadata": {
        "id": "1zLx64HUAMJH"
      },
      "source": [
        "# Let's model with our data"
      ]
    },
    {
      "cell_type": "markdown",
      "metadata": {
        "id": "9ATpkFRAAMJH"
      },
      "source": [
        "### Labels that are useful in plotting confusion matrix"
      ]
    },
    {
      "cell_type": "code",
      "metadata": {
        "collapsed": true,
        "id": "G6VuOVW4AMJI"
      },
      "source": [
        "labels=['LAYING', 'SITTING','STANDING','WALKING','WALKING_DOWNSTAIRS','WALKING_UPSTAIRS']"
      ],
      "execution_count": 10,
      "outputs": []
    },
    {
      "cell_type": "markdown",
      "metadata": {
        "id": "_GNK-ctIAMJI"
      },
      "source": [
        "### Function to plot the confusion matrix"
      ]
    },
    {
      "cell_type": "code",
      "metadata": {
        "collapsed": true,
        "id": "LDO5TYtEAMJI"
      },
      "source": [
        "import itertools\n",
        "import numpy as np\n",
        "import matplotlib.pyplot as plt\n",
        "from sklearn.metrics import confusion_matrix\n",
        "plt.rcParams[\"font.family\"] = 'DejaVu Sans'\n",
        "\n",
        "def plot_confusion_matrix(cm, classes,\n",
        "                          normalize=False,\n",
        "                          title='Confusion matrix',\n",
        "                          cmap=plt.cm.Blues):\n",
        "    if normalize:\n",
        "        cm = cm.astype('float') / cm.sum(axis=1)[:, np.newaxis]\n",
        "\n",
        "    plt.imshow(cm, interpolation='nearest', cmap=cmap)\n",
        "    plt.title(title)\n",
        "    plt.colorbar()\n",
        "    tick_marks = np.arange(len(classes))\n",
        "    plt.xticks(tick_marks, classes, rotation=90)\n",
        "    plt.yticks(tick_marks, classes)\n",
        "\n",
        "    fmt = '.2f' if normalize else 'd'\n",
        "    thresh = cm.max() / 2.\n",
        "    for i, j in itertools.product(range(cm.shape[0]), range(cm.shape[1])):\n",
        "        plt.text(j, i, format(cm[i, j], fmt),\n",
        "                 horizontalalignment=\"center\",\n",
        "                 color=\"white\" if cm[i, j] > thresh else \"black\")\n",
        "\n",
        "    plt.tight_layout()\n",
        "    plt.ylabel('True label')\n",
        "    plt.xlabel('Predicted label')"
      ],
      "execution_count": 11,
      "outputs": []
    },
    {
      "cell_type": "markdown",
      "metadata": {
        "id": "NwH630hxAMJK"
      },
      "source": [
        "### Generic function to run any model specified"
      ]
    },
    {
      "cell_type": "code",
      "metadata": {
        "collapsed": true,
        "id": "jgp6ZfhAAMJL"
      },
      "source": [
        "from datetime import datetime\n",
        "def perform_model(model, X_train, y_train, X_test, y_test, class_labels, cm_normalize=True, \\\n",
        "                 print_cm=True, cm_cmap=plt.cm.Greens):\n",
        "    \n",
        "    \n",
        "    # to store results at various phases\n",
        "    results = dict()\n",
        "    \n",
        "    # time at which model starts training \n",
        "    train_start_time = datetime.now()\n",
        "    print('training the model..')\n",
        "    model.fit(X_train, y_train)\n",
        "    print('Done \\n \\n')\n",
        "    train_end_time = datetime.now()\n",
        "    results['training_time'] =  train_end_time - train_start_time\n",
        "    print('training_time(HH:MM:SS.ms) - {}\\n\\n'.format(results['training_time']))\n",
        "    \n",
        "    \n",
        "    # predict test data\n",
        "    print('Predicting test data')\n",
        "    test_start_time = datetime.now()\n",
        "    y_pred = model.predict(X_test)\n",
        "    test_end_time = datetime.now()\n",
        "    print('Done \\n \\n')\n",
        "    results['testing_time'] = test_end_time - test_start_time\n",
        "    print('testing time(HH:MM:SS:ms) - {}\\n\\n'.format(results['testing_time']))\n",
        "    results['predicted'] = y_pred\n",
        "   \n",
        "\n",
        "    # calculate overall accuracty of the model\n",
        "    accuracy = metrics.accuracy_score(y_true=y_test, y_pred=y_pred)\n",
        "    # store accuracy in results\n",
        "    results['accuracy'] = accuracy\n",
        "    print('---------------------')\n",
        "    print('|      Accuracy      |')\n",
        "    print('---------------------')\n",
        "    print('\\n    {}\\n\\n'.format(accuracy))\n",
        "    \n",
        "    \n",
        "    # confusion matrix\n",
        "    cm = metrics.confusion_matrix(y_test, y_pred)\n",
        "    results['confusion_matrix'] = cm\n",
        "    if print_cm: \n",
        "        print('--------------------')\n",
        "        print('| Confusion Matrix |')\n",
        "        print('--------------------')\n",
        "        print('\\n {}'.format(cm))\n",
        "        \n",
        "    # plot confusin matrix\n",
        "    plt.figure(figsize=(8,8))\n",
        "    plt.grid(b=False)\n",
        "    plot_confusion_matrix(cm, classes=class_labels, normalize=True, title='Normalized confusion matrix', cmap = cm_cmap)\n",
        "    plt.show()\n",
        "    \n",
        "    # get classification report\n",
        "    print('-------------------------')\n",
        "    print('| Classifiction Report |')\n",
        "    print('-------------------------')\n",
        "    classification_report = metrics.classification_report(y_test, y_pred)\n",
        "    # store report in results\n",
        "    results['classification_report'] = classification_report\n",
        "    print(classification_report)\n",
        "    \n",
        "    # add the trained  model to the results\n",
        "    results['model'] = model\n",
        "    \n",
        "    return results\n",
        "    \n",
        "    "
      ],
      "execution_count": 13,
      "outputs": []
    },
    {
      "cell_type": "markdown",
      "metadata": {
        "id": "Ov8IRgO-AMJM"
      },
      "source": [
        "### Method to print the gridsearch Attributes"
      ]
    },
    {
      "cell_type": "code",
      "metadata": {
        "collapsed": true,
        "id": "_YC0MGevAMJN"
      },
      "source": [
        "def print_grid_search_attributes(model):\n",
        "    # Estimator that gave highest score among all the estimators formed in GridSearch\n",
        "    print('--------------------------')\n",
        "    print('|      Best Estimator     |')\n",
        "    print('--------------------------')\n",
        "    print('\\n\\t{}\\n'.format(model.best_estimator_))\n",
        "\n",
        "\n",
        "    # parameters that gave best results while performing grid search\n",
        "    print('--------------------------')\n",
        "    print('|     Best parameters     |')\n",
        "    print('--------------------------')\n",
        "    print('\\tParameters of best estimator : \\n\\n\\t{}\\n'.format(model.best_params_))\n",
        "\n",
        "\n",
        "    #  number of cross validation splits\n",
        "    print('---------------------------------')\n",
        "    print('|   No of CrossValidation sets   |')\n",
        "    print('--------------------------------')\n",
        "    print('\\n\\tTotal numbre of cross validation sets: {}\\n'.format(model.n_splits_))\n",
        "\n",
        "\n",
        "    # Average cross validated score of the best estimator, from the Grid Search \n",
        "    print('--------------------------')\n",
        "    print('|        Best Score       |')\n",
        "    print('--------------------------')\n",
        "    print('\\n\\tAverage Cross Validate scores of best estimator : \\n\\n\\t{}\\n'.format(model.best_score_))\n",
        "\n",
        "    \n",
        "    "
      ],
      "execution_count": 14,
      "outputs": []
    },
    {
      "cell_type": "markdown",
      "metadata": {
        "id": "C2oVY_5JAMJQ"
      },
      "source": [
        "# 1. Logistic Regression with Grid Search"
      ]
    },
    {
      "cell_type": "code",
      "metadata": {
        "collapsed": true,
        "id": "nX3dulD_AMJR"
      },
      "source": [
        "from sklearn import linear_model\n",
        "from sklearn import metrics\n",
        "\n",
        "from sklearn.model_selection import GridSearchCV"
      ],
      "execution_count": 15,
      "outputs": []
    },
    {
      "cell_type": "code",
      "metadata": {
        "scrolled": false,
        "colab": {
          "base_uri": "https://localhost:8080/",
          "height": 1000
        },
        "id": "_wyXSkXaAMJR",
        "outputId": "550e0ed1-debb-4370-fc7c-01ae0ada3436"
      },
      "source": [
        "\n",
        "# start Grid search\n",
        "parameters = {'C':[0.01, 0.1, 1, 10, 20, 30], 'penalty':['l2','l1']}\n",
        "log_reg = linear_model.LogisticRegression()\n",
        "log_reg_grid = GridSearchCV(log_reg, param_grid=parameters, cv=3, verbose=1, n_jobs=-1)\n",
        "log_reg_grid_results =  perform_model(log_reg_grid, X_train, y_train, X_test, y_test, class_labels=labels)\n"
      ],
      "execution_count": 16,
      "outputs": [
        {
          "output_type": "stream",
          "name": "stdout",
          "text": [
            "training the model..\n",
            "Fitting 3 folds for each of 12 candidates, totalling 36 fits\n"
          ]
        },
        {
          "output_type": "stream",
          "name": "stderr",
          "text": [
            "[Parallel(n_jobs=-1)]: Using backend LokyBackend with 2 concurrent workers.\n",
            "[Parallel(n_jobs=-1)]: Done  36 out of  36 | elapsed:   28.7s finished\n",
            "/usr/local/lib/python3.7/dist-packages/sklearn/linear_model/_logistic.py:940: ConvergenceWarning: lbfgs failed to converge (status=1):\n",
            "STOP: TOTAL NO. of ITERATIONS REACHED LIMIT.\n",
            "\n",
            "Increase the number of iterations (max_iter) or scale the data as shown in:\n",
            "    https://scikit-learn.org/stable/modules/preprocessing.html\n",
            "Please also refer to the documentation for alternative solver options:\n",
            "    https://scikit-learn.org/stable/modules/linear_model.html#logistic-regression\n",
            "  extra_warning_msg=_LOGISTIC_SOLVER_CONVERGENCE_MSG)\n"
          ]
        },
        {
          "output_type": "stream",
          "name": "stdout",
          "text": [
            "Done \n",
            " \n",
            "\n",
            "training_time(HH:MM:SS.ms) - 0:00:32.578727\n",
            "\n",
            "\n",
            "Predicting test data\n",
            "Done \n",
            " \n",
            "\n",
            "testing time(HH:MM:SS:ms) - 0:00:00.011360\n",
            "\n",
            "\n",
            "---------------------\n",
            "|      Accuracy      |\n",
            "---------------------\n",
            "\n",
            "    0.9589412962334578\n",
            "\n",
            "\n",
            "--------------------\n",
            "| Confusion Matrix |\n",
            "--------------------\n",
            "\n",
            " [[537   0   0   0   0   0]\n",
            " [  0 429  59   0   0   3]\n",
            " [  0  15 517   0   0   0]\n",
            " [  0   0   0 492   3   1]\n",
            " [  0   0   0   4 403  13]\n",
            " [  0   0   0  22   1 448]]\n"
          ]
        },
        {
          "output_type": "display_data",
          "data": {
            "image/png": "[encoded data removed]",
            "text/plain": [
              "<Figure size 576x576 with 2 Axes>"
            ]
          },
          "metadata": {
            "needs_background": "light"
          }
        },
        {
          "output_type": "stream",
          "name": "stdout",
          "text": [
            "-------------------------\n",
            "| Classifiction Report |\n",
            "-------------------------\n",
            "                    precision    recall  f1-score   support\n",
            "\n",
            "            LAYING       1.00      1.00      1.00       537\n",
            "           SITTING       0.97      0.87      0.92       491\n",
            "          STANDING       0.90      0.97      0.93       532\n",
            "           WALKING       0.95      0.99      0.97       496\n",
            "WALKING_DOWNSTAIRS       0.99      0.96      0.97       420\n",
            "  WALKING_UPSTAIRS       0.96      0.95      0.96       471\n",
            "\n",
            "          accuracy                           0.96      2947\n",
            "         macro avg       0.96      0.96      0.96      2947\n",
            "      weighted avg       0.96      0.96      0.96      2947\n",
            "\n"
          ]
        }
      ]
    },
    {
      "cell_type": "code",
      "metadata": {
        "id": "qjSVbexcAMJS",
        "outputId": "c33fd141-d07f-4505-9913-8c4284750bd2"
      },
      "source": [
        "plt.figure(figsize=(8,8))\n",
        "plt.grid(b=False)\n",
        "plot_confusion_matrix(log_reg_grid_results['confusion_matrix'], classes=labels, cmap=plt.cm.Greens, )\n",
        "plt.show()"
      ],
      "execution_count": null,
      "outputs": [
        {
          "data": {
            "image/png": "[encoded data removed]",
            "text/plain": [
              "<Figure size 576x576 with 2 Axes>"
            ]
          },
          "metadata": {},
          "output_type": "display_data"
        }
      ]
    },
    {
      "cell_type": "code",
      "metadata": {
        "colab": {
          "base_uri": "https://localhost:8080/"
        },
        "id": "9MY5IonJAMJT",
        "outputId": "ab415a8c-8e97-426d-c558-50328949b5c5"
      },
      "source": [
        "# observe the attributes of the model \n",
        "print_grid_search_attributes(log_reg_grid_results['model'])"
      ],
      "execution_count": 17,
      "outputs": [
        {
          "output_type": "stream",
          "name": "stdout",
          "text": [
            "--------------------------\n",
            "|      Best Estimator     |\n",
            "--------------------------\n",
            "\n",
            "\tLogisticRegression(C=1, class_weight=None, dual=False, fit_intercept=True,\n",
            "                   intercept_scaling=1, l1_ratio=None, max_iter=100,\n",
            "                   multi_class='auto', n_jobs=None, penalty='l2',\n",
            "                   random_state=None, solver='lbfgs', tol=0.0001, verbose=0,\n",
            "                   warm_start=False)\n",
            "\n",
            "--------------------------\n",
            "|     Best parameters     |\n",
            "--------------------------\n",
            "\tParameters of best estimator : \n",
            "\n",
            "\t{'C': 1, 'penalty': 'l2'}\n",
            "\n",
            "---------------------------------\n",
            "|   No of CrossValidation sets   |\n",
            "--------------------------------\n",
            "\n",
            "\tTotal numbre of cross validation sets: 3\n",
            "\n",
            "--------------------------\n",
            "|        Best Score       |\n",
            "--------------------------\n",
            "\n",
            "\tAverage Cross Validate scores of best estimator : \n",
            "\n",
            "\t0.9358015748118914\n",
            "\n"
          ]
        }
      ]
    },
    {
      "cell_type": "markdown",
      "metadata": {
        "collapsed": true,
        "id": "SzXNFLttAMJV"
      },
      "source": [
        "#  2. Linear SVC with GridSearch"
      ]
    },
    {
      "cell_type": "code",
      "metadata": {
        "collapsed": true,
        "id": "Ez-JW_nrAMJW"
      },
      "source": [
        "from sklearn.svm import LinearSVC"
      ],
      "execution_count": 18,
      "outputs": []
    },
    {
      "cell_type": "code",
      "metadata": {
        "scrolled": false,
        "colab": {
          "base_uri": "https://localhost:8080/",
          "height": 1000
        },
        "id": "qtWFkWM1AMJW",
        "outputId": "990f8b11-a1eb-43e9-9017-e4e0ef45986e"
      },
      "source": [
        "parameters = {'C':[0.125, 0.5, 1, 2, 8, 16]}\n",
        "lr_svc = LinearSVC(tol=0.00005)\n",
        "lr_svc_grid = GridSearchCV(lr_svc, param_grid=parameters, n_jobs=-1, verbose=1)\n",
        "lr_svc_grid_results = perform_model(lr_svc_grid, X_train, y_train, X_test, y_test, class_labels=labels)"
      ],
      "execution_count": 19,
      "outputs": [
        {
          "output_type": "stream",
          "name": "stdout",
          "text": [
            "training the model..\n",
            "Fitting 5 folds for each of 6 candidates, totalling 30 fits\n"
          ]
        },
        {
          "output_type": "stream",
          "name": "stderr",
          "text": [
            "[Parallel(n_jobs=-1)]: Using backend LokyBackend with 2 concurrent workers.\n",
            "[Parallel(n_jobs=-1)]: Done  30 out of  30 | elapsed:  1.6min finished\n",
            "/usr/local/lib/python3.7/dist-packages/sklearn/svm/_base.py:947: ConvergenceWarning: Liblinear failed to converge, increase the number of iterations.\n",
            "  \"the number of iterations.\", ConvergenceWarning)\n"
          ]
        },
        {
          "output_type": "stream",
          "name": "stdout",
          "text": [
            "Done \n",
            " \n",
            "\n",
            "training_time(HH:MM:SS.ms) - 0:01:40.902566\n",
            "\n",
            "\n",
            "Predicting test data\n",
            "Done \n",
            " \n",
            "\n",
            "testing time(HH:MM:SS:ms) - 0:00:00.011407\n",
            "\n",
            "\n",
            "---------------------\n",
            "|      Accuracy      |\n",
            "---------------------\n",
            "\n",
            "    0.9667458432304038\n",
            "\n",
            "\n",
            "--------------------\n",
            "| Confusion Matrix |\n",
            "--------------------\n",
            "\n",
            " [[537   0   0   0   0   0]\n",
            " [  2 428  58   0   0   3]\n",
            " [  0   9 522   1   0   0]\n",
            " [  0   0   0 496   0   0]\n",
            " [  0   0   0   3 412   5]\n",
            " [  0   0   0  17   0 454]]\n"
          ]
        },
        {
          "output_type": "display_data",
          "data": {
            "image/png": "[encoded data removed]",
            "text/plain": [
              "<Figure size 576x576 with 2 Axes>"
            ]
          },
          "metadata": {
            "needs_background": "light"
          }
        },
        {
          "output_type": "stream",
          "name": "stdout",
          "text": [
            "-------------------------\n",
            "| Classifiction Report |\n",
            "-------------------------\n",
            "                    precision    recall  f1-score   support\n",
            "\n",
            "            LAYING       1.00      1.00      1.00       537\n",
            "           SITTING       0.98      0.87      0.92       491\n",
            "          STANDING       0.90      0.98      0.94       532\n",
            "           WALKING       0.96      1.00      0.98       496\n",
            "WALKING_DOWNSTAIRS       1.00      0.98      0.99       420\n",
            "  WALKING_UPSTAIRS       0.98      0.96      0.97       471\n",
            "\n",
            "          accuracy                           0.97      2947\n",
            "         macro avg       0.97      0.97      0.97      2947\n",
            "      weighted avg       0.97      0.97      0.97      2947\n",
            "\n"
          ]
        }
      ]
    },
    {
      "cell_type": "code",
      "metadata": {
        "id": "vXR6lmIjAMJX",
        "outputId": "d4f99441-24ce-4d0c-e0f6-8f85fb710eee"
      },
      "source": [
        "print_grid_search_attributes(lr_svc_grid_results['model'])"
      ],
      "execution_count": null,
      "outputs": [
        {
          "name": "stdout",
          "output_type": "stream",
          "text": [
            "--------------------------\n",
            "|      Best Estimator     |\n",
            "--------------------------\n",
            "\n",
            "\tLinearSVC(C=8, class_weight=None, dual=True, fit_intercept=True,\n",
            "     intercept_scaling=1, loss='squared_hinge', max_iter=1000,\n",
            "     multi_class='ovr', penalty='l2', random_state=None, tol=5e-05,\n",
            "     verbose=0)\n",
            "\n",
            "--------------------------\n",
            "|     Best parameters     |\n",
            "--------------------------\n",
            "\tParameters of best estimator : \n",
            "\n",
            "\t{'C': 8}\n",
            "\n",
            "---------------------------------\n",
            "|   No of CrossValidation sets   |\n",
            "--------------------------------\n",
            "\n",
            "\tTotal numbre of cross validation sets: 3\n",
            "\n",
            "--------------------------\n",
            "|        Best Score       |\n",
            "--------------------------\n",
            "\n",
            "\tAverage Cross Validate scores of best estimator : \n",
            "\n",
            "\t0.9465451577801959\n",
            "\n"
          ]
        }
      ]
    },
    {
      "cell_type": "markdown",
      "metadata": {
        "id": "qaXX6VF_AMJY"
      },
      "source": [
        "# 3.  Kernel SVM with GridSearch"
      ]
    },
    {
      "cell_type": "code",
      "metadata": {
        "scrolled": false,
        "id": "-HEcyfhMAMJY",
        "outputId": "c3843b9d-da4a-4822-f3e0-4a16d920d0e9"
      },
      "source": [
        "from sklearn.svm import SVC\n",
        "parameters = {'C':[2,8,16],\\\n",
        "              'gamma': [ 0.0078125, 0.125, 2]}\n",
        "rbf_svm = SVC(kernel='rbf')\n",
        "rbf_svm_grid = GridSearchCV(rbf_svm,param_grid=parameters, n_jobs=-1)\n",
        "rbf_svm_grid_results = perform_model(rbf_svm_grid, X_train, y_train, X_test, y_test, class_labels=labels)"
      ],
      "execution_count": null,
      "outputs": [
        {
          "name": "stdout",
          "output_type": "stream",
          "text": [
            "training the model..\n",
            "Done \n",
            " \n",
            "\n",
            "training_time(HH:MM:SS.ms) - 0:05:46.182889\n",
            "\n",
            "\n",
            "Predicting test data\n",
            "Done \n",
            " \n",
            "\n",
            "testing time(HH:MM:SS:ms) - 0:00:05.221285\n",
            "\n",
            "\n",
            "---------------------\n",
            "|      Accuracy      |\n",
            "---------------------\n",
            "\n",
            "    0.9626739056667798\n",
            "\n",
            "\n",
            "--------------------\n",
            "| Confusion Matrix |\n",
            "--------------------\n",
            "\n",
            " [[537   0   0   0   0   0]\n",
            " [  0 441  48   0   0   2]\n",
            " [  0  12 520   0   0   0]\n",
            " [  0   0   0 489   2   5]\n",
            " [  0   0   0   4 397  19]\n",
            " [  0   0   0  17   1 453]]\n"
          ]
        },
        {
          "data": {
            "image/png": "[encoded data removed]",
            "text/plain": [
              "<Figure size 576x576 with 2 Axes>"
            ]
          },
          "metadata": {},
          "output_type": "display_data"
        },
        {
          "name": "stdout",
          "output_type": "stream",
          "text": [
            "-------------------------\n",
            "| Classifiction Report |\n",
            "-------------------------\n",
            "                    precision    recall  f1-score   support\n",
            "\n",
            "            LAYING       1.00      1.00      1.00       537\n",
            "           SITTING       0.97      0.90      0.93       491\n",
            "          STANDING       0.92      0.98      0.95       532\n",
            "           WALKING       0.96      0.99      0.97       496\n",
            "WALKING_DOWNSTAIRS       0.99      0.95      0.97       420\n",
            "  WALKING_UPSTAIRS       0.95      0.96      0.95       471\n",
            "\n",
            "       avg / total       0.96      0.96      0.96      2947\n",
            "\n"
          ]
        }
      ]
    },
    {
      "cell_type": "code",
      "metadata": {
        "id": "CdJTASssAMJZ",
        "outputId": "0ab15b7b-9459-43a2-f15a-020b69d6fdc9"
      },
      "source": [
        "print_grid_search_attributes(rbf_svm_grid_results['model'])"
      ],
      "execution_count": null,
      "outputs": [
        {
          "name": "stdout",
          "output_type": "stream",
          "text": [
            "--------------------------\n",
            "|      Best Estimator     |\n",
            "--------------------------\n",
            "\n",
            "\tSVC(C=16, cache_size=200, class_weight=None, coef0=0.0,\n",
            "  decision_function_shape='ovr', degree=3, gamma=0.0078125, kernel='rbf',\n",
            "  max_iter=-1, probability=False, random_state=None, shrinking=True,\n",
            "  tol=0.001, verbose=False)\n",
            "\n",
            "--------------------------\n",
            "|     Best parameters     |\n",
            "--------------------------\n",
            "\tParameters of best estimator : \n",
            "\n",
            "\t{'C': 16, 'gamma': 0.0078125}\n",
            "\n",
            "---------------------------------\n",
            "|   No of CrossValidation sets   |\n",
            "--------------------------------\n",
            "\n",
            "\tTotal numbre of cross validation sets: 3\n",
            "\n",
            "--------------------------\n",
            "|        Best Score       |\n",
            "--------------------------\n",
            "\n",
            "\tAverage Cross Validate scores of best estimator : \n",
            "\n",
            "\t0.9440968443960827\n",
            "\n"
          ]
        }
      ]
    },
    {
      "cell_type": "markdown",
      "metadata": {
        "collapsed": true,
        "id": "NyC6G_YpAMJa"
      },
      "source": [
        "# 4. Decision Trees with GridSearchCV"
      ]
    },
    {
      "cell_type": "code",
      "metadata": {
        "scrolled": false,
        "id": "AO0HarYOAMJa",
        "outputId": "96513a9a-abf7-4003-e3a5-15dd91fba032"
      },
      "source": [
        "from sklearn.tree import DecisionTreeClassifier\n",
        "parameters = {'max_depth':np.arange(3,10,2)}\n",
        "dt = DecisionTreeClassifier()\n",
        "dt_grid = GridSearchCV(dt,param_grid=parameters, n_jobs=-1)\n",
        "dt_grid_results = perform_model(dt_grid, X_train, y_train, X_test, y_test, class_labels=labels)\n",
        "print_grid_search_attributes(dt_grid_results['model'])"
      ],
      "execution_count": null,
      "outputs": [
        {
          "name": "stdout",
          "output_type": "stream",
          "text": [
            "training the model..\n",
            "Done \n",
            " \n",
            "\n",
            "training_time(HH:MM:SS.ms) - 0:00:19.476858\n",
            "\n",
            "\n",
            "Predicting test data\n",
            "Done \n",
            " \n",
            "\n",
            "testing time(HH:MM:SS:ms) - 0:00:00.012858\n",
            "\n",
            "\n",
            "---------------------\n",
            "|      Accuracy      |\n",
            "---------------------\n",
            "\n",
            "    0.8642687478791992\n",
            "\n",
            "\n",
            "--------------------\n",
            "| Confusion Matrix |\n",
            "--------------------\n",
            "\n",
            " [[537   0   0   0   0   0]\n",
            " [  0 386 105   0   0   0]\n",
            " [  0  93 439   0   0   0]\n",
            " [  0   0   0 472  16   8]\n",
            " [  0   0   0  15 344  61]\n",
            " [  0   0   0  73  29 369]]\n"
          ]
        },
        {
          "data": {
            "image/png": "[encoded data removed]",
            "text/plain": [
              "<Figure size 576x576 with 2 Axes>"
            ]
          },
          "metadata": {},
          "output_type": "display_data"
        },
        {
          "name": "stdout",
          "output_type": "stream",
          "text": [
            "-------------------------\n",
            "| Classifiction Report |\n",
            "-------------------------\n",
            "                    precision    recall  f1-score   support\n",
            "\n",
            "            LAYING       1.00      1.00      1.00       537\n",
            "           SITTING       0.81      0.79      0.80       491\n",
            "          STANDING       0.81      0.83      0.82       532\n",
            "           WALKING       0.84      0.95      0.89       496\n",
            "WALKING_DOWNSTAIRS       0.88      0.82      0.85       420\n",
            "  WALKING_UPSTAIRS       0.84      0.78      0.81       471\n",
            "\n",
            "       avg / total       0.86      0.86      0.86      2947\n",
            "\n",
            "--------------------------\n",
            "|      Best Estimator     |\n",
            "--------------------------\n",
            "\n",
            "\tDecisionTreeClassifier(class_weight=None, criterion='gini', max_depth=7,\n",
            "            max_features=None, max_leaf_nodes=None,\n",
            "            min_impurity_decrease=0.0, min_impurity_split=None,\n",
            "            min_samples_leaf=1, min_samples_split=2,\n",
            "            min_weight_fraction_leaf=0.0, presort=False, random_state=None,\n",
            "            splitter='best')\n",
            "\n",
            "--------------------------\n",
            "|     Best parameters     |\n",
            "--------------------------\n",
            "\tParameters of best estimator : \n",
            "\n",
            "\t{'max_depth': 7}\n",
            "\n",
            "---------------------------------\n",
            "|   No of CrossValidation sets   |\n",
            "--------------------------------\n",
            "\n",
            "\tTotal numbre of cross validation sets: 3\n",
            "\n",
            "--------------------------\n",
            "|        Best Score       |\n",
            "--------------------------\n",
            "\n",
            "\tAverage Cross Validate scores of best estimator : \n",
            "\n",
            "\t0.8369151251360174\n",
            "\n"
          ]
        }
      ]
    },
    {
      "cell_type": "markdown",
      "metadata": {
        "id": "jNv3ghTkAMJb"
      },
      "source": [
        "# 5. Random Forest Classifier with GridSearch"
      ]
    },
    {
      "cell_type": "code",
      "metadata": {
        "scrolled": false,
        "id": "oRjqWLilAMJc",
        "outputId": "1834ccca-54f0-4e5a-b8e0-8c6526638977"
      },
      "source": [
        "from sklearn.ensemble import RandomForestClassifier\n",
        "params = {'n_estimators': np.arange(10,201,20), 'max_depth':np.arange(3,15,2)}\n",
        "rfc = RandomForestClassifier()\n",
        "rfc_grid = GridSearchCV(rfc, param_grid=params, n_jobs=-1)\n",
        "rfc_grid_results = perform_model(rfc_grid, X_train, y_train, X_test, y_test, class_labels=labels)\n",
        "print_grid_search_attributes(rfc_grid_results['model'])"
      ],
      "execution_count": null,
      "outputs": [
        {
          "name": "stdout",
          "output_type": "stream",
          "text": [
            "training the model..\n",
            "Done \n",
            " \n",
            "\n",
            "training_time(HH:MM:SS.ms) - 0:06:22.775270\n",
            "\n",
            "\n",
            "Predicting test data\n",
            "Done \n",
            " \n",
            "\n",
            "testing time(HH:MM:SS:ms) - 0:00:00.025937\n",
            "\n",
            "\n",
            "---------------------\n",
            "|      Accuracy      |\n",
            "---------------------\n",
            "\n",
            "    0.9131319986426875\n",
            "\n",
            "\n",
            "--------------------\n",
            "| Confusion Matrix |\n",
            "--------------------\n",
            "\n",
            " [[537   0   0   0   0   0]\n",
            " [  0 427  64   0   0   0]\n",
            " [  0  52 480   0   0   0]\n",
            " [  0   0   0 484  10   2]\n",
            " [  0   0   0  38 332  50]\n",
            " [  0   0   0  34   6 431]]\n"
          ]
        },
        {
          "data": {
            "image/png": "[encoded data removed]",
            "text/plain": [
              "<Figure size 576x576 with 2 Axes>"
            ]
          },
          "metadata": {},
          "output_type": "display_data"
        },
        {
          "name": "stdout",
          "output_type": "stream",
          "text": [
            "-------------------------\n",
            "| Classifiction Report |\n",
            "-------------------------\n",
            "                    precision    recall  f1-score   support\n",
            "\n",
            "            LAYING       1.00      1.00      1.00       537\n",
            "           SITTING       0.89      0.87      0.88       491\n",
            "          STANDING       0.88      0.90      0.89       532\n",
            "           WALKING       0.87      0.98      0.92       496\n",
            "WALKING_DOWNSTAIRS       0.95      0.79      0.86       420\n",
            "  WALKING_UPSTAIRS       0.89      0.92      0.90       471\n",
            "\n",
            "       avg / total       0.92      0.91      0.91      2947\n",
            "\n",
            "--------------------------\n",
            "|      Best Estimator     |\n",
            "--------------------------\n",
            "\n",
            "\tRandomForestClassifier(bootstrap=True, class_weight=None, criterion='gini',\n",
            "            max_depth=7, max_features='auto', max_leaf_nodes=None,\n",
            "            min_impurity_decrease=0.0, min_impurity_split=None,\n",
            "            min_samples_leaf=1, min_samples_split=2,\n",
            "            min_weight_fraction_leaf=0.0, n_estimators=70, n_jobs=1,\n",
            "            oob_score=False, random_state=None, verbose=0,\n",
            "            warm_start=False)\n",
            "\n",
            "--------------------------\n",
            "|     Best parameters     |\n",
            "--------------------------\n",
            "\tParameters of best estimator : \n",
            "\n",
            "\t{'max_depth': 7, 'n_estimators': 70}\n",
            "\n",
            "---------------------------------\n",
            "|   No of CrossValidation sets   |\n",
            "--------------------------------\n",
            "\n",
            "\tTotal numbre of cross validation sets: 3\n",
            "\n",
            "--------------------------\n",
            "|        Best Score       |\n",
            "--------------------------\n",
            "\n",
            "\tAverage Cross Validate scores of best estimator : \n",
            "\n",
            "\t0.9141730141458106\n",
            "\n"
          ]
        }
      ]
    },
    {
      "cell_type": "markdown",
      "metadata": {
        "id": "oRl5JZEeAMJd"
      },
      "source": [
        "# 6.  Gradient Boosted Decision Trees With GridSearch"
      ]
    },
    {
      "cell_type": "code",
      "metadata": {
        "scrolled": false,
        "id": "kCcdwSuvAMJd",
        "outputId": "1a7afb74-7103-4e76-91f4-86aa8bb4e4d9"
      },
      "source": [
        "from sklearn.ensemble import GradientBoostingClassifier\n",
        "param_grid = {'max_depth': np.arange(5,8,1), \\\n",
        "             'n_estimators':np.arange(130,170,10)}\n",
        "gbdt = GradientBoostingClassifier()\n",
        "gbdt_grid = GridSearchCV(gbdt, param_grid=param_grid, n_jobs=-1)\n",
        "gbdt_grid_results = perform_model(gbdt_grid, X_train, y_train, X_test, y_test, class_labels=labels)\n",
        "print_grid_search_attributes(gbdt_grid_results['model'])"
      ],
      "execution_count": null,
      "outputs": [
        {
          "name": "stdout",
          "output_type": "stream",
          "text": [
            "training the model..\n",
            "Done \n",
            " \n",
            "\n",
            "training_time(HH:MM:SS.ms) - 0:28:03.653432\n",
            "\n",
            "\n",
            "Predicting test data\n",
            "Done \n",
            " \n",
            "\n",
            "testing time(HH:MM:SS:ms) - 0:00:00.058843\n",
            "\n",
            "\n",
            "---------------------\n",
            "|      Accuracy      |\n",
            "---------------------\n",
            "\n",
            "    0.9222938581608415\n",
            "\n",
            "\n",
            "--------------------\n",
            "| Confusion Matrix |\n",
            "--------------------\n",
            "\n",
            " [[537   0   0   0   0   0]\n",
            " [  0 396  93   0   0   2]\n",
            " [  0  37 495   0   0   0]\n",
            " [  0   0   0 483   7   6]\n",
            " [  0   0   0  10 374  36]\n",
            " [  0   1   0  31   6 433]]\n"
          ]
        },
        {
          "data": {
            "image/png": "[encoded data removed]",
            "text/plain": [
              "<Figure size 576x576 with 2 Axes>"
            ]
          },
          "metadata": {},
          "output_type": "display_data"
        },
        {
          "name": "stdout",
          "output_type": "stream",
          "text": [
            "-------------------------\n",
            "| Classifiction Report |\n",
            "-------------------------\n",
            "                    precision    recall  f1-score   support\n",
            "\n",
            "            LAYING       1.00      1.00      1.00       537\n",
            "           SITTING       0.91      0.81      0.86       491\n",
            "          STANDING       0.84      0.93      0.88       532\n",
            "           WALKING       0.92      0.97      0.95       496\n",
            "WALKING_DOWNSTAIRS       0.97      0.89      0.93       420\n",
            "  WALKING_UPSTAIRS       0.91      0.92      0.91       471\n",
            "\n",
            "       avg / total       0.92      0.92      0.92      2947\n",
            "\n",
            "--------------------------\n",
            "|      Best Estimator     |\n",
            "--------------------------\n",
            "\n",
            "\tGradientBoostingClassifier(criterion='friedman_mse', init=None,\n",
            "              learning_rate=0.1, loss='deviance', max_depth=5,\n",
            "              max_features=None, max_leaf_nodes=None,\n",
            "              min_impurity_decrease=0.0, min_impurity_split=None,\n",
            "              min_samples_leaf=1, min_samples_split=2,\n",
            "              min_weight_fraction_leaf=0.0, n_estimators=140,\n",
            "              presort='auto', random_state=None, subsample=1.0, verbose=0,\n",
            "              warm_start=False)\n",
            "\n",
            "--------------------------\n",
            "|     Best parameters     |\n",
            "--------------------------\n",
            "\tParameters of best estimator : \n",
            "\n",
            "\t{'max_depth': 5, 'n_estimators': 140}\n",
            "\n",
            "---------------------------------\n",
            "|   No of CrossValidation sets   |\n",
            "--------------------------------\n",
            "\n",
            "\tTotal numbre of cross validation sets: 3\n",
            "\n",
            "--------------------------\n",
            "|        Best Score       |\n",
            "--------------------------\n",
            "\n",
            "\tAverage Cross Validate scores of best estimator : \n",
            "\n",
            "\t0.904379760609358\n",
            "\n"
          ]
        }
      ]
    },
    {
      "cell_type": "markdown",
      "metadata": {
        "id": "zyDqoyXkAMJe"
      },
      "source": [
        "\n",
        "# 7. Comparing all models"
      ]
    },
    {
      "cell_type": "code",
      "metadata": {
        "scrolled": true,
        "id": "3W2YB2cwAMJe",
        "outputId": "c60a263c-0326-4a0b-fc54-b8ecb604bfba"
      },
      "source": [
        "print('\\n                     Accuracy     Error')\n",
        "print('                     ----------   --------')\n",
        "print('Logistic Regression : {:.04}%       {:.04}%'.format(log_reg_grid_results['accuracy'] * 100,\\\n",
        "                                                  100-(log_reg_grid_results['accuracy'] * 100)))\n",
        "\n",
        "print('Linear SVC          : {:.04}%       {:.04}% '.format(lr_svc_grid_results['accuracy'] * 100,\\\n",
        "                                                        100-(lr_svc_grid_results['accuracy'] * 100)))\n",
        "\n",
        "print('rbf SVM classifier  : {:.04}%      {:.04}% '.format(rbf_svm_grid_results['accuracy'] * 100,\\\n",
        "                                                          100-(rbf_svm_grid_results['accuracy'] * 100)))\n",
        "\n",
        "print('DecisionTree        : {:.04}%      {:.04}% '.format(dt_grid_results['accuracy'] * 100,\\\n",
        "                                                        100-(dt_grid_results['accuracy'] * 100)))\n",
        "\n",
        "print('Random Forest       : {:.04}%      {:.04}% '.format(rfc_grid_results['accuracy'] * 100,\\\n",
        "                                                           100-(rfc_grid_results['accuracy'] * 100)))\n",
        "print('GradientBoosting DT : {:.04}%      {:.04}% '.format(rfc_grid_results['accuracy'] * 100,\\\n",
        "                                                        100-(rfc_grid_results['accuracy'] * 100)))"
      ],
      "execution_count": null,
      "outputs": [
        {
          "name": "stdout",
          "output_type": "stream",
          "text": [
            "\n",
            "                     Accuracy     Error\n",
            "                     ----------   --------\n",
            "Logistic Regression : 96.27%       3.733%\n",
            "Linear SVC          : 96.61%       3.393% \n",
            "rbf SVM classifier  : 96.27%      3.733% \n",
            "DecisionTree        : 86.43%      13.57% \n",
            "Random Forest       : 91.31%      8.687% \n",
            "GradientBoosting DT : 91.31%      8.687% \n"
          ]
        }
      ]
    },
    {
      "cell_type": "markdown",
      "metadata": {
        "id": "8JNp5s3aAMJf"
      },
      "source": [
        "> We can choose ___Logistic regression___ or ___Linear SVC___ or ___rbf SVM___."
      ]
    },
    {
      "cell_type": "markdown",
      "metadata": {
        "id": "vmyC6r6BAMJg"
      },
      "source": [
        "# Conclusion :"
      ]
    },
    {
      "cell_type": "markdown",
      "metadata": {
        "id": "uYb6FOXVAMJh"
      },
      "source": [
        "In the real world, domain-knowledge, EDA and feature-engineering matter most."
      ]
    }
  ]
}